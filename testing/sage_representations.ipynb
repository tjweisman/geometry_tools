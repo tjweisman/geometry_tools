{
 "cells": [
  {
   "cell_type": "code",
   "execution_count": 1,
   "metadata": {},
   "outputs": [],
   "source": [
    "from geometry_tools import representation\n",
    "from geometry_tools import utils\n",
    "from geometry_tools.utils import words\n",
    "from geometry_tools.utils import sagewrap\n",
    "\n",
    "from geometry_tools import lie\n",
    "\n",
    "import numpy as np\n",
    "\n",
    "import pdb"
   ]
  },
  {
   "cell_type": "code",
   "execution_count": 2,
   "metadata": {},
   "outputs": [
    {
     "data": {
      "text/plain": [
       "[\n",
       "[1.000000000000?         0.?e-12]\n",
       "[        0.?e-12 1.000000000000?]\n",
       "]"
      ]
     },
     "execution_count": 2,
     "metadata": {},
     "output_type": "execute_result"
    }
   ],
   "source": [
    "# test QQbar rep\n",
    "sinpi8 = QQbar(sin(pi/8))\n",
    "cospi8 = QQbar(cos(pi/8))\n",
    "fourth2 = QQbar(2^(1/4))\n",
    "\n",
    "l = QQbar(fourth2 * 2 * cospi8 + fourth2^2 + 1)\n",
    "\n",
    "g1 = Matrix([[l, 0], [0, 1/l]])\n",
    "g2 = (Matrix([[cospi8, sinpi8], [-sinpi8, cospi8]]) *\n",
    "          g1 *\n",
    "          Matrix([[cospi8, -sinpi8], [sinpi8, cospi8]]))\n",
    "\n",
    "g3 = (Matrix([[fourth2^2 / 2, fourth2^2/2],\n",
    "                 [-1 * fourth2^2/2, fourth2^2/2]]) * g1 *\n",
    "          Matrix([[fourth2^2 / 2, -1 * fourth2^2/2],\n",
    "                  [fourth2^2/2, fourth2^2/2]]))\n",
    "\n",
    "g4 = (Matrix([[sinpi8, cospi8], [-cospi8, sinpi8]]) * g1 *\n",
    "          Matrix([[sinpi8, -cospi8], [cospi8, sinpi8]]))\n",
    "\n",
    "rep = representation.SageMatrixRepresentation(relations=[\"adCbADcB\"],\n",
    "                                        base_ring=QQbar)\n",
    "\n",
    "rep[\"a\"] = g1\n",
    "rep[\"b\"] = g2\n",
    "rep[\"c\"] = g3\n",
    "rep[\"d\"] = g4\n",
    "\n",
    "rep.elements(rep.relations)"
   ]
  },
  {
   "cell_type": "code",
   "execution_count": 3,
   "metadata": {},
   "outputs": [
    {
     "data": {
      "text/plain": [
       "[ 3.41421356237310? -10.1333432997419?   -7.165355763339?   -8.579569325712?  12.3307115266775?  13.5475568621150?  -1.5537739740301?  -4.9679875364032?]\n",
       "[-0.47648905024951?   3.4142135623731?    1.077284923781?    0.336928638593?  -2.9377245121236?  -2.6738572771852?   1.8604395883431?   1.5537739740301?]"
      ]
     },
     "execution_count": 3,
     "metadata": {},
     "output_type": "execute_result"
    }
   ],
   "source": [
    "rep.cocycle_matrix()"
   ]
  },
  {
   "cell_type": "code",
   "execution_count": 4,
   "metadata": {},
   "outputs": [
    {
     "data": {
      "text/plain": [
       "'baaBA'"
      ]
     },
     "execution_count": 4,
     "metadata": {},
     "output_type": "execute_result"
    }
   ],
   "source": [
    "words.formal_inverse(\"abAAB\")"
   ]
  },
  {
   "cell_type": "code",
   "execution_count": 5,
   "metadata": {},
   "outputs": [
    {
     "data": {
      "text/plain": [
       "[0.?e-12 0.?e-12]\n",
       "[0.?e-11 0.?e-12]"
      ]
     },
     "execution_count": 5,
     "metadata": {},
     "output_type": "execute_result"
    }
   ],
   "source": [
    "rep.cocycle_matrix() * rep.coboundary_matrix()"
   ]
  },
  {
   "cell_type": "code",
   "execution_count": 6,
   "metadata": {},
   "outputs": [],
   "source": [
    "adj = rep.sln_adjoint()"
   ]
  },
  {
   "cell_type": "code",
   "execution_count": 7,
   "metadata": {},
   "outputs": [
    {
     "data": {
      "text/plain": [
       "array([[ True,  True,  True],\n",
       "       [ True,  True,  True],\n",
       "       [ True,  True,  True]])"
      ]
     },
     "execution_count": 7,
     "metadata": {},
     "output_type": "execute_result"
    }
   ],
   "source": [
    "adj.elements(adj.relations)[0] == utils.identity(3, like=adj)"
   ]
  },
  {
   "cell_type": "code",
   "execution_count": 8,
   "metadata": {},
   "outputs": [
    {
     "data": {
      "text/plain": [
       "[\n",
       "[1 0 0 0]\n",
       "[0 1 0 0]\n",
       "[0 0 1 0]\n",
       "[0 0 0 1]\n",
       "]"
      ]
     },
     "execution_count": 8,
     "metadata": {},
     "output_type": "execute_result"
    }
   ],
   "source": [
    "ir3 = rep.compose(lie.hom.sl2_irrep(4))\n",
    "\n",
    "ir3.elements(ir3.relations)"
   ]
  },
  {
   "cell_type": "code",
   "execution_count": 9,
   "metadata": {},
   "outputs": [
    {
     "data": {
      "text/plain": [
       "array([[[ 1.00000000e+00,  4.74876365e-14],\n",
       "        [-2.92352062e-15,  1.00000000e+00]]])"
      ]
     },
     "execution_count": 9,
     "metadata": {},
     "output_type": "execute_result"
    }
   ],
   "source": [
    "num_rep = representation.Representation(\n",
    "    rep.change_dtype('float64')\n",
    ")\n",
    "\n",
    "num_rep.elements(num_rep.relations)"
   ]
  },
  {
   "cell_type": "code",
   "execution_count": 10,
   "metadata": {},
   "outputs": [
    {
     "data": {
      "text/plain": [
       "array([[[ 1.00000000e+00, -4.34704133e-14,  3.19488395e-13],\n",
       "        [ 4.22481424e-12,  1.00000000e+00,  1.04343496e-11],\n",
       "        [-1.24859226e-13,  1.80892652e-14,  1.00000000e+00]]])"
      ]
     },
     "execution_count": 10,
     "metadata": {},
     "output_type": "execute_result"
    }
   ],
   "source": [
    "numadj = num_rep.sln_adjoint()\n",
    "numadj.elements(num_rep.relations)"
   ]
  },
  {
   "cell_type": "code",
   "execution_count": 11,
   "metadata": {},
   "outputs": [
    {
     "data": {
      "text/plain": [
       "array([[[ True,  True,  True,  True,  True],\n",
       "        [ True,  True,  True,  True,  True],\n",
       "        [ True,  True,  True,  True,  True],\n",
       "        [ True,  True,  True,  True,  True],\n",
       "        [ True,  True,  True,  True,  True]]])"
      ]
     },
     "execution_count": 11,
     "metadata": {},
     "output_type": "execute_result"
    }
   ],
   "source": [
    "num_ir5 = num_rep.compose(lie.hom.sl2_irrep(5))\n",
    "\n",
    "#pretty intense round-off error, we're only correct to 6 decimals places...\n",
    "np.abs(num_ir5.elements(num_rep.relations) - utils.identity(5)) < 1e-6"
   ]
  },
  {
   "cell_type": "code",
   "execution_count": null,
   "metadata": {},
   "outputs": [],
   "source": []
  }
 ],
 "metadata": {
  "kernelspec": {
   "display_name": "SageMath 9.2",
   "language": "sage",
   "name": "sagemath"
  },
  "language_info": {
   "codemirror_mode": {
    "name": "ipython",
    "version": 3
   },
   "file_extension": ".py",
   "mimetype": "text/x-python",
   "name": "python",
   "nbconvert_exporter": "python",
   "pygments_lexer": "ipython3",
   "version": "3.8.5"
  }
 },
 "nbformat": 4,
 "nbformat_minor": 4
}
